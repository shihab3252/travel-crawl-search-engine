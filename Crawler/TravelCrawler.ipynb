{
 "cells": [
  {
   "cell_type": "code",
   "execution_count": 1,
   "metadata": {},
   "outputs": [],
   "source": [
    "import praw\n",
    "import json\n",
    "import datetime as dt"
   ]
  },
  {
   "cell_type": "code",
   "execution_count": 2,
   "metadata": {},
   "outputs": [],
   "source": [
    "reddit = praw.Reddit(client_id='Jxj7iGi2PGFtRA',\n",
    "                     client_secret='JJkLXqSWpgyeavjbLKMw-tVk678',\n",
    "                     user_agent='Reddit Crawler',\n",
    "                     username='Mishkat076',\n",
    "                     password='Mishkat076')"
   ]
  },
  {
   "cell_type": "code",
   "execution_count": 3,
   "metadata": {},
   "outputs": [],
   "source": [
    "with open('subreddits.txt', 'r') as infile:\n",
    "    subreddits = infile.readlines()"
   ]
  },
  {
   "cell_type": "code",
   "execution_count": 4,
   "metadata": {},
   "outputs": [],
   "source": [
    "subreddits = [subreddit.rstrip('\\n') for subreddit in subreddits]"
   ]
  },
  {
   "cell_type": "code",
   "execution_count": 5,
   "metadata": {},
   "outputs": [],
   "source": [
    "keyval = {\n",
    "            'title':'title', \n",
    "            'selftext':'body'\n",
    "         } # list all key:value except for comments"
   ]
  },
  {
   "cell_type": "code",
   "execution_count": 6,
   "metadata": {},
   "outputs": [],
   "source": [
    "def get_comments(submission):\n",
    "    submission.comments.replace_more(limit=None)\n",
    "    return [comment.body for comment in submission.comments.list()]"
   ]
  },
  {
   "cell_type": "code",
   "execution_count": 7,
   "metadata": {},
   "outputs": [],
   "source": [
    "data = []\n",
    "for subreddit in subreddits:\n",
    "    top = reddit.subreddit(subreddit).top(limit=1)\n",
    "    for submission in top:\n",
    "        values = vars(submission)\n",
    "        datum = {keyval[key]:values[key] for key in keyval.keys()}\n",
    "        datum['comments'] = get_comments(submission)\n",
    "        data.append(datum)"
   ]
  },
  {
   "cell_type": "code",
   "execution_count": 8,
   "metadata": {},
   "outputs": [],
   "source": [
    "with open('data.json', 'w') as outfile:\n",
    "    json.dump(data, outfile)"
   ]
  },
  {
   "cell_type": "code",
   "execution_count": null,
   "metadata": {},
   "outputs": [],
   "source": []
  }
 ],
 "metadata": {
  "kernelspec": {
   "display_name": "Python 3",
   "language": "python",
   "name": "python3"
  },
  "language_info": {
   "codemirror_mode": {
    "name": "ipython",
    "version": 3
   },
   "file_extension": ".py",
   "mimetype": "text/x-python",
   "name": "python",
   "nbconvert_exporter": "python",
   "pygments_lexer": "ipython3",
   "version": "3.7.3"
  }
 },
 "nbformat": 4,
 "nbformat_minor": 2
}
